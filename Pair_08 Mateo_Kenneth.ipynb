{
  "cells": [
    {
      "cell_type": "markdown",
      "metadata": {
        "id": "view-in-github",
        "colab_type": "text"
      },
      "source": [
        "<a href=\"https://colab.research.google.com/github/7Blessings7/Final-Project-CMS204/blob/main/Pair_08%20Mateo_Kenneth.ipynb\" target=\"_parent\"><img src=\"https://colab.research.google.com/assets/colab-badge.svg\" alt=\"Open In Colab\"/></a>"
      ]
    },
    {
      "cell_type": "markdown",
      "metadata": {
        "id": "IDqyiz3ZP9Pf"
      },
      "source": [
        "# Flight Routes - Shortest Path Problem"
      ]
    },
    {
      "cell_type": "code",
      "source": [
        "class Graph:\n",
        "  def __init__(self, edges):\n",
        "    self.edges = edges\n",
        "    self.graph_dict ={}\n",
        "    for start, end, weight in self.edges:\n",
        "     if start in self.graph_dict:\n",
        "       self.graph_dict[start].append((end, weight))\n",
        "     else:\n",
        "       self.graph_dict[start] = [(end, weight)]\n",
        "    \n",
        "    #print(\"Graph dict:\", self.graph_dict)\n",
        "\n",
        "  def get_paths(self, start, end, path = None):\n",
        "    if path is None:\n",
        "      path = [start]\n",
        "\n",
        "    if start == end:\n",
        "      return [path]\n",
        "    \n",
        "    if start not in self.graph_dict:\n",
        "      return []\n",
        "\n",
        "    paths = []\n",
        "    for node, weight in self.graph_dict[start]:\n",
        "      if node not in path:\n",
        "        new_path = path + [node]\n",
        "        new_paths = self.get_paths(node, end, new_path)\n",
        "        for p in new_paths:\n",
        "          paths.append(p)\n",
        "    \n",
        "    return paths\n",
        "\n",
        "  def get_shortest_path(self, start, end, path = None):\n",
        "    if path is None:\n",
        "      path = [start]\n",
        "    else:\n",
        "      path.append(start)\n",
        "\n",
        "    if start == end:\n",
        "      return path\n",
        "\n",
        "    if start not in self.graph_dict:\n",
        "      return None\n",
        "\n",
        "    shortest_path = None\n",
        "    for node, weight in self.graph_dict[start]:\n",
        "      if node not in path:\n",
        "        sp = self.get_shortest_path(node, end, path[:])\n",
        "        if sp:\n",
        "          if shortest_path is None or len(sp) < len(shortest_path):\n",
        "            shortest_path = sp\n",
        "    \n",
        "    return shortest_path\n",
        "  \n",
        "  def get_path_weight(self, path):\n",
        "    path_weight = 0\n",
        "    for i in range(len(path)-1):\n",
        "      start = path[i]\n",
        "      end = path[i + 1]\n",
        "      if start in self.graph_dict:\n",
        "        for end, weight in self.graph_dict[start]:\n",
        "          if end == path[i + 1]:\n",
        "            path_weight += weight\n",
        "    return path_weight\n",
        "  \n",
        "  def get_shortest_path_with_weight(self, start, end, path = None):\n",
        "    if path is None:\n",
        "      path = [start]\n",
        "    else:\n",
        "      path.append(start)\n",
        "\n",
        "    if start == end:\n",
        "      return path\n",
        "\n",
        "    if start not in self.graph_dict:\n",
        "      return None\n",
        "\n",
        "    shortest_path = None\n",
        "    for node, weight in self.graph_dict[start]:\n",
        "      if node not in path:\n",
        "        sp = self.get_shortest_path_with_weight(node, end, path[:])\n",
        "        if sp:\n",
        "          #print(self.get_path_weight(sp))\n",
        "          #print(self.get_path_weight(shortest_path))\n",
        "          if shortest_path is None or self.get_path_weight(sp) < self.get_path_weight(shortest_path):\n",
        "            shortest_path = sp\n",
        "    \n",
        "    return shortest_path\n",
        "\n",
        "routes = [(\"Mumbai\", \"Paris\", 4000)\n",
        "        , (\"Mumbai\", \"Boston\", 5000)\n",
        "        , (\"Mumbai\", \"Dubai\", 500)\n",
        "        , (\"Boston\", \"Hartford\", 200)\n",
        "        , (\"Hartford\", \"New York\", 100)\n",
        "        , (\"Paris\", \"Dubai\", 2000)\n",
        "        , (\"Paris\", \"New York\", 3000)\n",
        "        , (\"Dubai\", \"New York\", 6000)\n",
        "        , (\"New York\", \"Toronto\", 400)\n",
        "        ]\n",
        "\n",
        "route_graph = Graph(routes)\n",
        "\n",
        "start = \"Mumbai\"\n",
        "end = \"New York\"\n",
        "\n",
        "print(f\"Paths between {start} and {end}: \", route_graph.get_paths(start,end))\n",
        "print(f\"Shortest Path (Stop) between {start} and {end}: \", route_graph.get_shortest_path(start,end))\n",
        "print(f\"Shortest Path (Weight) between {start} and {end}: \", route_graph.get_shortest_path_with_weight(start,end))\n",
        "print(f\"Shortest Weight between {start} and {end}: \", route_graph.get_path_weight(route_graph.get_shortest_path_with_weight(start,end)))\n"
      ],
      "metadata": {
        "colab": {
          "base_uri": "https://localhost:8080/"
        },
        "id": "ytZVs_iof_zo",
        "outputId": "8a6f6cd1-de79-444f-e23e-687fc8e950fb"
      },
      "execution_count": null,
      "outputs": [
        {
          "output_type": "stream",
          "name": "stdout",
          "text": [
            "Paths between Mumbai and New York:  [['Mumbai', 'Paris', 'Dubai', 'New York'], ['Mumbai', 'Paris', 'New York'], ['Mumbai', 'Boston', 'Hartford', 'New York'], ['Mumbai', 'Dubai', 'New York']]\n",
            "Shortest Path (Stop) between Mumbai and New York:  ['Mumbai', 'Paris', 'New York']\n",
            "Shortest Path (Weight) between Mumbai and New York:  ['Mumbai', 'Boston', 'Hartford', 'New York']\n",
            "Shortest Weight between Mumbai and New York:  5300\n"
          ]
        }
      ]
    },
    {
      "cell_type": "markdown",
      "metadata": {
        "id": "kAgAm7_tP9k3"
      },
      "source": [
        "# Practice"
      ]
    },
    {
      "cell_type": "code",
      "execution_count": null,
      "metadata": {
        "colab": {
          "base_uri": "https://localhost:8080/"
        },
        "id": "MpVVkNSrnaK9",
        "outputId": "7a45d144-8571-43a5-e275-7a4d723ac0a5"
      },
      "outputs": [
        {
          "output_type": "stream",
          "name": "stdout",
          "text": [
            "Graph dict: {'Mumbai': ['Paris', 'Dubai'], 'Paris': ['Dubai', 'New York'], 'Dubai': ['New York'], 'New York': ['Toronto']}\n",
            "Shortest Paths between Mumbai and New York:  ['Mumbai', 'Paris', 'New York']\n"
          ]
        }
      ],
      "source": [
        "class Graph:\n",
        "  def __init__(self, edges):\n",
        "    self.edges = edges\n",
        "    self.graph_dict ={}\n",
        "    for start, end in self.edges:\n",
        "     if start in self.graph_dict:\n",
        "       self.graph_dict[start].append(end)\n",
        "     else:\n",
        "       self.graph_dict[start] = [end]\n",
        "    \n",
        "    print(\"Graph dict:\", self.graph_dict)\n",
        "\n",
        "  def get_paths(self, start, end, path = []):\n",
        "    path = path + [start]\n",
        "    if start == end:\n",
        "      return [path]\n",
        "    \n",
        "    if start not in self.graph_dict:\n",
        "      return []\n",
        "\n",
        "    paths = []\n",
        "    for node in self.graph_dict[start]:\n",
        "      if node not in path:\n",
        "        new_paths = self.get_paths(node, end, path)\n",
        "        for p in new_paths:\n",
        "          paths.append(p)\n",
        "    \n",
        "    return paths\n",
        "\n",
        "  def get_shortest_path(self, start, end, path = []):\n",
        "    path = path + [start]\n",
        "\n",
        "    if start not in self.graph_dict:\n",
        "      return None\n",
        "\n",
        "    if start == end:\n",
        "      return path\n",
        "\n",
        "    shortest_path = None\n",
        "    for node in self.graph_dict[start]:\n",
        "      if node not in path:\n",
        "        sp = self.get_shortest_path(node, end, path)\n",
        "        if sp:\n",
        "          if shortest_path is None or len(sp) < len(shortest_path):\n",
        "            shortest_path = sp\n",
        "    \n",
        "    return shortest_path\n",
        "\n",
        "\n",
        "\n",
        "routes = [(\"Mumbai\", \"Paris\")\n",
        "        , (\"Mumbai\", \"Dubai\")\n",
        "        , (\"Paris\", \"Dubai\")\n",
        "        , (\"Paris\", \"New York\")\n",
        "        , (\"Dubai\", \"New York\")\n",
        "        , (\"New York\", \"Toronto\")\n",
        "        ]\n",
        "\n",
        "route_graph = Graph(routes)\n",
        "\n",
        "start = \"Mumbai\"\n",
        "end = \"New York\"\n",
        "\n",
        "#print(f\"Paths between {start} and {end}: \", route_graph.get_paths(start,end))\n",
        "print(f\"Shortest Paths between {start} and {end}: \", route_graph.get_shortest_path(start,end))"
      ]
    }
  ],
  "metadata": {
    "colab": {
      "toc_visible": true,
      "provenance": [],
      "collapsed_sections": [
        "kAgAm7_tP9k3"
      ],
      "include_colab_link": true
    },
    "kernelspec": {
      "display_name": "Python 3",
      "name": "python3"
    },
    "language_info": {
      "name": "python"
    }
  },
  "nbformat": 4,
  "nbformat_minor": 0
}