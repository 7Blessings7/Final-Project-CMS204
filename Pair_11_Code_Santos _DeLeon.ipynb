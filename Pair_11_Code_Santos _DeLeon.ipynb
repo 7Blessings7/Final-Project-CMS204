{
  "nbformat": 4,
  "nbformat_minor": 0,
  "metadata": {
    "colab": {
      "provenance": [],
      "include_colab_link": true
    },
    "kernelspec": {
      "name": "python3",
      "display_name": "Python 3"
    },
    "language_info": {
      "name": "python"
    }
  },
  "cells": [
    {
      "cell_type": "markdown",
      "metadata": {
        "id": "view-in-github",
        "colab_type": "text"
      },
      "source": [
        "<a href=\"https://colab.research.google.com/github/7Blessings7/Final-Project-CMS204/blob/main/Pair_11_Code_Santos%20_DeLeon.ipynb\" target=\"_parent\"><img src=\"https://colab.research.google.com/assets/colab-badge.svg\" alt=\"Open In Colab\"/></a>"
      ]
    },
    {
      "cell_type": "markdown",
      "source": [
        "############################################\n",
        "\n",
        "FINDING THE SHORTEST PATH ON AN UNWEIGHTED GRAPH\n",
        "############################################"
      ],
      "metadata": {
        "id": "idDdOUP7DsKL"
      }
    },
    {
      "cell_type": "code",
      "source": [
        "class Graph:\n",
        "    def __init__(self, edges):\n",
        "        # Set the input variable as the object's edges\n",
        "        self.edges = edges\n",
        "\n",
        "        # Convert the input into a graph adjacency list (using Python dictionary)\n",
        "        self.graph_dict = {}\n",
        "        for start, end in self.edges:\n",
        "            # If start is already a key in graph_dict, just update the value\n",
        "            if start in self.graph_dict:\n",
        "                self.graph_dict[start].append(end)\n",
        "            # Otherwise, create a new key-value pair\n",
        "            else:\n",
        "                self.graph_dict[start] = [end]\n",
        "\n",
        "    def get_paths(self, start, end, path=[]):\n",
        "        \"\"\"Returns a list containing all possible paths from start to end\"\"\"\n",
        "        # A graph path from start to end begins with start\n",
        "        path = path + [start]\n",
        "\n",
        "        # Recursion's Base Case: when start == end\n",
        "        if start == end:\n",
        "            return [path]\n",
        "        \n",
        "        # If start is not a key in graph_dict, then there is no starting point \n",
        "        if start not in self.graph_dict:\n",
        "            return [] # no possible paths\n",
        "        \n",
        "        # Define the list containing all possible paths\n",
        "        paths = []\n",
        "\n",
        "        # Iterate over all the possible destinations when traveling from start\n",
        "        for node in self.graph_dict[start]:\n",
        "\n",
        "            # If the node is not yet the end destination\n",
        "            if node not in path:\n",
        "                # Recursive Call: set current node to be the new value for start\n",
        "                new_paths = self.get_paths(start=node, end=end, path=path)\n",
        "                # Update paths by including discovered paths from start to end\n",
        "                for p in new_paths:\n",
        "                    paths.append(p)\n",
        "\n",
        "        return paths\n",
        "   \n",
        "    def shortest_path(self, start, end, path=[]):\n",
        "        \"\"\"Returns the path with the least number of stops\"\"\"\n",
        "\n",
        "        # Find the path in paths (from get_paths) with the shortest length\n",
        "        if self.get_paths(start, end):\n",
        "            return min(self.get_paths(start, end))\n",
        "        else:\n",
        "            return None"
      ],
      "metadata": {
        "id": "LmephANJ3p5Z"
      },
      "execution_count": null,
      "outputs": []
    },
    {
      "cell_type": "code",
      "source": [
        "# DATA\n",
        "travel_stops = [\n",
        "    (\"Robles Compound\", \"EDSA Bus Carousel Monumento\"), # by foot\n",
        "    (\"Robles Compound\", \"LRT1 Monumento\"), # by jeep\n",
        "    (\"Robles Compound\", \"Bangko Sentral ng Pilipinas Gate 3\"), # via GrabCar\n",
        "    (\"EDSA Bus Carousel Monumento\", \"LRT1 EDSA\"), # via EDSA Bus Carousel\n",
        "    (\"LRT1 Monumento\", \"LRT1 Vito Cruz\"), # via LRT\n",
        "    (\"LRT1 EDSA\", \"LRT1 Vito Cruz\"), # via LRT\n",
        "    (\"LRT1 Vito Cruz\", \"Bangko Sentral ng Pilipinas Gate 3\"), # by foot\n",
        "]\n",
        "\n",
        "modes_of_transport = {\n",
        "    (\"Robles Compound\", \"EDSA Bus Carousel Monumento\"): \"by foot\",\n",
        "    (\"Robles Compound\", \"LRT1 Monumento\"): \"by jeepney\",\n",
        "    (\"Robles Compound\", \"Bangko Sentral ng Pilipinas Gate 3\"): \"by GrabCar or taxi\",\n",
        "    (\"EDSA Bus Carousel Monumento\", \"LRT1 EDSA\"): \"by bus\",\n",
        "    (\"LRT1 Monumento\", \"LRT1 Vito Cruz\"): \"by train\",\n",
        "    (\"LRT1 EDSA\", \"LRT1 Vito Cruz\"): \"by train\",\n",
        "    (\"LRT1 Vito Cruz\", \"Bangko Sentral ng Pilipinas Gate 3\"): \"by foot\"\n",
        "}"
      ],
      "metadata": {
        "id": "2W7rwiL4zYrA"
      },
      "execution_count": null,
      "outputs": []
    },
    {
      "cell_type": "code",
      "source": [
        "# APPLICATION\n",
        "my_commute = Graph(travel_stops)\n",
        "\n",
        "home = \"Robles Compound\"\n",
        "office = \"Bangko Sentral ng Pilipinas Gate 3\"\n",
        "\n",
        "options = my_commute.get_paths(home, office)\n",
        "\n",
        "print(f\"Commute options from {home} to {office}: \\n\")\n",
        "\n",
        "# For a cleaner presentation of all possible commute options\n",
        "for i in range(len(options)):\n",
        "    print(f\"Option {i + 1}: \")\n",
        "    for j in range(len(options[i]) - 1):\n",
        "        key = (options[i][j], options[i][j + 1])\n",
        "        print(f\"{options[i][j]} -> {options[i][j + 1]} {modes_of_transport[key]}\")\n",
        "    print(\"\\n\")\n",
        "\n",
        "# Display the best commute option in terms of least stops\n",
        "print(f\"Commute with least stops between {home} and {office}: Option {options.index(my_commute.shortest_path(home, office)) + 1}\")"
      ],
      "metadata": {
        "colab": {
          "base_uri": "https://localhost:8080/"
        },
        "id": "6K_ZaEO-zcW3",
        "outputId": "d460dd73-9677-44b6-fcaf-dd95fda18e99"
      },
      "execution_count": null,
      "outputs": [
        {
          "output_type": "stream",
          "name": "stdout",
          "text": [
            "Commute options from Robles Compound to Bangko Sentral ng Pilipinas Gate 3: \n",
            "\n",
            "Option 1: \n",
            "Robles Compound -> EDSA Bus Carousel Monumento by foot\n",
            "EDSA Bus Carousel Monumento -> LRT1 EDSA by bus\n",
            "LRT1 EDSA -> LRT1 Vito Cruz by train\n",
            "LRT1 Vito Cruz -> Bangko Sentral ng Pilipinas Gate 3 by foot\n",
            "\n",
            "\n",
            "Option 2: \n",
            "Robles Compound -> LRT1 Monumento by jeepney\n",
            "LRT1 Monumento -> LRT1 Vito Cruz by train\n",
            "LRT1 Vito Cruz -> Bangko Sentral ng Pilipinas Gate 3 by foot\n",
            "\n",
            "\n",
            "Option 3: \n",
            "Robles Compound -> Bangko Sentral ng Pilipinas Gate 3 by GrabCar or taxi\n",
            "\n",
            "\n",
            "Commute with least stops between Robles Compound and Bangko Sentral ng Pilipinas Gate 3: Option 3\n"
          ]
        }
      ]
    },
    {
      "cell_type": "markdown",
      "source": [
        "#################################################################\n",
        "\n",
        "FINDING THE SHORTEST PATH ON A WEIGHTED GRAPH USING DIJSKTRA'S ALGORITHM\n",
        "#################################################################"
      ],
      "metadata": {
        "id": "O94d5_I5rHTJ"
      }
    },
    {
      "cell_type": "code",
      "source": [
        "from collections import defaultdict\n",
        "\n",
        "class graph():                              #tuples: (\"Antipolo (LRT2)\", \"Marikina-Pasig (LRT2)\", 2.3)\n",
        "  def __init__(self):\n",
        "    self.paths = defaultdict(list)          # dictionary of all possible paths from initial node (KEY) to the next\n",
        "    self.distances = {}                     # dictionary of weights between two nodes (KEY)\n",
        "\n",
        "  # Adding bi-directional paths (e.g. LRT2 Katipunan <--> LRT2 Santolan) \n",
        "  def add_path(self, start_point, end_point, distance): \n",
        "    self.paths[start_point].append(end_point)\n",
        "    self.paths[end_point].append(start_point)\n",
        "    self.distances[(start_point, end_point)] = distance\n",
        "    self.distances[(end_point, start_point)] = distance\n",
        "\n",
        "def dijsktra(graph, initial, end):\n",
        "  shortest_path = {initial: (None, 0)}        # shortest path is a dictionary of nodes whose value is a tuple of (previous node, distance)\n",
        "  current_node = initial                      # start with input initial node\n",
        "  visited = set()                             # create a place holder for visited nodes\n",
        "  \n",
        "  ### For each destination node that we visit, we note the possible next destinations and the total weight to visit that destination.\n",
        "  ### If a destination is one we have seen before and the weight to visit is lower than it was previously, this new weight will take its place.\n",
        "  while current_node != end:                  # check all nodes until the end node\n",
        "    visited.add(current_node)                 # add node being inspected to list of visited nodes\n",
        "    destinations = graph.paths[current_node]  # nodes to check\n",
        "    distance_to_current_node = shortest_path[current_node][1]\n",
        "\n",
        "    for next_node in destinations:\n",
        "      distance = graph.distances[(current_node, next_node)] + distance_to_current_node\n",
        "                                              # update distance by adding distance from current node to next node\n",
        "      if next_node not in shortest_path:      # if next node is not yet visited, append next node to shortest path\n",
        "        shortest_path[next_node] = (current_node, distance)\n",
        "      else:\n",
        "        current_shortest_distance = shortest_path[next_node][1]\n",
        "        if current_shortest_distance > distance:\n",
        "          shortest_path[next_node] = (current_node, distance)\n",
        "        \n",
        "    next_destinations = {                     # look for next node to be inspected \n",
        "        node: shortest_path[node] for node in shortest_path if node not in visited\n",
        "        }\n",
        "    if not next_destinations:                 # if empty, no route from initial to end\n",
        "      return \"Route Not Possible\"\n",
        "    # next node is the destination with the least distance\n",
        "    current_node = min(next_destinations, key=lambda k: next_destinations[k][1])\n",
        "    \n",
        "  # extract route from shortest_path starting from current node to initial node\n",
        "  path = []\n",
        "  while current_node is not None:\n",
        "    path.append(current_node)\n",
        "    next_node = shortest_path[current_node][0]\n",
        "    current_node = next_node\n",
        "\n",
        "  # Need to reverse path\n",
        "  path = path[::-1]\n",
        "  print(\"The shortest route is\", path, \"with distance\", distance, \"km\")"
      ],
      "metadata": {
        "id": "conwCqypVj0c"
      },
      "execution_count": null,
      "outputs": []
    },
    {
      "cell_type": "code",
      "source": [
        "# DATA\n",
        "routes = [\n",
        "  (\"Antipolo (LRT2)\", \"Marikina-Pasig (LRT2)\", 2.3),\n",
        "  (\"Marikina-Pasig (LRT2)\", \"Santolan (LRT2)\", 1.8),\n",
        "  (\"Santolan (LRT2)\", \"Katipunan (LRT2)\", 2),\n",
        "  (\"Katipunan (LRT2)\", \"Anonas (LRT2)\", 1),\n",
        "  (\"Anonas (LRT2)\", \"Araneta Center-Cubao (LRT2)\", 1.5),\n",
        "  (\"Araneta Center-Cubao (LRT2)\", \"Betty Go-Belmonte (LRT2)\", 1.2),\n",
        "  (\"Betty Go-Belmonte (LRT2)\", \"Gilmore (LRT2)\", 1.1),\n",
        "  (\"Gilmore (LRT2)\", \"J. Ruiz (LRT2)\", 1),\n",
        "  (\"J. Ruiz (LRT2)\", \"V. Mapa (LRT2)\", 1.3),\n",
        "  (\"V. Mapa (LRT2)\", \"Pureza (LRT2)\", 1.4),\n",
        "  (\"Pureza (LRT2)\", \"Legarda (LRT2)\", 1.4),\n",
        "  (\"Legarda (LRT2)\", \"Recto (LRT2)\", 1.1),\n",
        "  (\"Recto (LRT2)\", \"Doroteo Jose (LRT1)\", 0.3),\n",
        "  (\"Roosevelt (LRT1)\", \"Balintawak (LRT1)\", 1.9),\n",
        "  (\"Balintawak (LRT1)\", \"Monumento (LRT1)\", 2.3),\n",
        "  (\"Monumento (LRT1)\", \"5th Avenue (LRT1)\", 1.1),\n",
        "  (\"5th Avenue (LRT1)\", \"R. Papa (LRT1)\", 1),\n",
        "  (\"R. Papa (LRT1)\", \"Abad Santos (LRT1)\", 0.7),\n",
        "  (\"Abad Santos (LRT1)\", \"Blumentritt (LRT1)\", 1),\n",
        "  (\"Blumentritt (LRT1)\", \"Tayuman (LRT1)\", 0.7),\n",
        "  (\"Tayuman (LRT1)\", \"Bambang (LRT1)\", 0.7),\n",
        "  (\"Bambang (LRT1)\", \"Doroteo Jose (LRT1)\", 0.7),\n",
        "  (\"Doroteo Jose (LRT1)\", \"Carriedo (LRT1)\", 0.7),\n",
        "  (\"Carriedo (LRT1)\", \"Central Terminal (LRT1)\", 0.8),\n",
        "  (\"Central Terminal (LRT1)\", \"United Nations (LRT1)\", 1.3),\n",
        "  (\"United Nations (LRT1)\", \"Pedro Gil (LRT1)\", 0.8),\n",
        "  (\"Pedro Gil (LRT1)\", \"Quirino (LRT1)\", 0.8),\n",
        "  (\"Quirino (LRT1)\", \"Vito Cruz (LRT1)\", 0.9),\n",
        "  (\"Vito Cruz (LRT1)\", \"Gil Puyat (LRT1)\", 1.1),\n",
        "  (\"Gil Puyat (LRT1)\", \"Libertad (LRT1)\", 0.8),\n",
        "  (\"Libertad (LRT1)\", \"EDSA (LRT1)\", 1.1),\n",
        "  (\"EDSA (LRT1)\", \"Baclaran (LRT1)\", 0.6),\n",
        "  (\"EDSA (LRT1)\", \"Taft (MRT3)\", 0.4),\n",
        "  (\"Roosevelt (LRT1)\", \"North Avenue (MRT3)\", 3),\n",
        "  (\"North Avenue (MRT3)\", \"Quezon Avenue (MRT3)\", 1.2),\n",
        "  (\"Quezon Avenue (MRT3)\", \"Kamuning (MRT3)\", 1),\n",
        "  (\"Kamuning (MRT3)\", \"Araneta Center-Cubao (MRT3)\", 1.9),\n",
        "  (\"Araneta Center-Cubao (MRT3)\", \"Santolan (MRT3)\", 1.5),\n",
        "  (\"Santolan (MRT3)\", \"Ortigas (MRT3)\", 2.3),\n",
        "  (\"Ortigas (MRT3)\", \"Shaw Boulevard (MRT3)\", 0.8),\n",
        "  (\"Shaw Boulevard (MRT3)\", \"Boni (MRT3)\", 1),\n",
        "  (\"Boni (MRT3)\", \"Guadalupe (MRT3)\", 0.8),\n",
        "  (\"Guadalupe (MRT3)\", \"Buendia\t (MRT3)\", 2),\n",
        "  (\"Buendia\t (MRT3)\", \"Ayala (MRT3)\", 1),\n",
        "  (\"Ayala (MRT3)\", \"Magallanes\t (MRT3)\", 1.2),\n",
        "  (\"Magallanes\t (MRT3)\", \"Taft (MRT3)\", 2.1),\n",
        "  (\"Araneta Center-Cubao (MRT3)\", \"Araneta Center-Cubao (LRT2)\", 0.5),\n",
        "  (\"Mesh's House\", \"Marikina-Pasig (LRT2)\", 5),\n",
        "  (\"Mesh's House\", \"Santolan (LRT2)\", 6.6),\n",
        "  (\"Mesh's House\", \"Katipunan (LRT2)\", 5.9),\n",
        "  (\"Katipunan (LRT2)\", \"UP Diliman\", 4.1),\n",
        "  (\"Quezon Avenue (MRT3)\", \"UP Diliman\", 4.7),\n",
        "  (\"Jed's House\", \"Monumento (LRT1)\", 0.7),\n",
        "  (\"Vito Cruz (LRT1)\", \"Bangko Sentral ng Pilipinas\", 1.1),\n",
        "  (\"Quirino (LRT1)\", \"Bangko Sentral ng Pilipinas\", 1.1)\n",
        "]"
      ],
      "metadata": {
        "id": "OY3kEhk_DTFp"
      },
      "execution_count": null,
      "outputs": []
    },
    {
      "cell_type": "code",
      "source": [
        "# APPLICATION\n",
        "graph = graph()\n",
        "\n",
        "for data in routes:\n",
        "  graph.add_path(*data)\n",
        "  \n",
        "dijsktra(graph, \"Mesh's House\", \"UP Diliman\")\n",
        "dijsktra(graph, \"Jed's House\", \"Bangko Sentral ng Pilipinas\")"
      ],
      "metadata": {
        "colab": {
          "base_uri": "https://localhost:8080/"
        },
        "id": "WakEf7UjDduy",
        "outputId": "ecc75807-6ea5-4cfd-a0b4-9e5f9c4c6ae0"
      },
      "execution_count": null,
      "outputs": [
        {
          "output_type": "stream",
          "name": "stdout",
          "text": [
            "The shortest route is [\"Mesh's House\", 'Katipunan (LRT2)', 'UP Diliman'] with distance 10.7 km\n",
            "The shortest route is [\"Jed's House\", 'Monumento (LRT1)', '5th Avenue (LRT1)', 'R. Papa (LRT1)', 'Abad Santos (LRT1)', 'Blumentritt (LRT1)', 'Tayuman (LRT1)', 'Bambang (LRT1)', 'Doroteo Jose (LRT1)', 'Carriedo (LRT1)', 'Central Terminal (LRT1)', 'United Nations (LRT1)', 'Pedro Gil (LRT1)', 'Quirino (LRT1)', 'Bangko Sentral ng Pilipinas'] with distance 13.400000000000002 km\n"
          ]
        }
      ]
    }
  ]
}