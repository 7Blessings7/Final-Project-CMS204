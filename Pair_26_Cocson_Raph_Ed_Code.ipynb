{
  "nbformat": 4,
  "nbformat_minor": 0,
  "metadata": {
    "colab": {
      "provenance": [],
      "include_colab_link": true
    },
    "kernelspec": {
      "name": "python3",
      "display_name": "Python 3"
    },
    "language_info": {
      "name": "python"
    }
  },
  "cells": [
    {
      "cell_type": "markdown",
      "metadata": {
        "id": "view-in-github",
        "colab_type": "text"
      },
      "source": [
        "<a href=\"https://colab.research.google.com/github/7Blessings7/Final-Project-CMS204/blob/main/Pair_26_Cocson_Raph_Ed_Code.ipynb\" target=\"_parent\"><img src=\"https://colab.research.google.com/assets/colab-badge.svg\" alt=\"Open In Colab\"/></a>"
      ]
    },
    {
      "cell_type": "markdown",
      "metadata": {
        "id": "RY1VRF_QSN8p"
      },
      "source": [
        "# **Final Project: Graph Data Structures**\n",
        "\n",
        "CMSC 204 (Data Structures and Algorithms),  2nd Sem 2022-2023\n",
        "\n",
        "UP Open University\n",
        "\n",
        "Name: Raph Ed Cocson\n",
        "\n",
        "Student number: 2022-30093\n"
      ]
    },
    {
      "cell_type": "markdown",
      "metadata": {
        "id": "c-OxZ_AZYI3J"
      },
      "source": [
        "**Final Project**\n",
        "\n",
        "This implementation of graph data structure runs a simple call routing program  of a typical US health insurance contact center. \n",
        "\n",
        "The next code cell uses libraries to draw the graph for this call routing with all vertices and edges shown"
      ]
    },
    {
      "cell_type": "code",
      "source": [
        "# Graph data structure implementation on call routing\n",
        "\n",
        "class Graph:\n",
        "    def __init__(self):\n",
        "        self.graph = {}\n",
        "\n",
        "    # add an edge between vertices u and v.\n",
        "    def add_edge(self, u, v):\n",
        "        if u not in self.graph:\n",
        "            self.graph[u] = []\n",
        "        self.graph[u].append(v)\n",
        "\n",
        "    # create call routes based on caller type\n",
        "    def route_call(self, caller_type, survey_agreed):\n",
        "        if caller_type == \"member\":\n",
        "            return \"Route call to member department\"\n",
        "        elif caller_type == \"provider\":\n",
        "            return \"Route call to provider department\"\n",
        "        else:\n",
        "            return \"Route call to general queue department\"\n",
        "\n",
        "# create an instance of the Graph class called g \n",
        "# then add edges between vertices in the graph using the add_edge method\n",
        "g = Graph()\n",
        "g.add_edge(\"main_number\", \"general_queue_department\")\n",
        "g.add_edge(\"main_number\", \"member_department\")\n",
        "g.add_edge(\"main_number\", \"provider_department\")\n",
        "g.add_edge(\"general_queue_department\", \"pharmacy_department\")\n",
        "g.add_edge(\"general_queue_department\", \"pre_certification_department\")\n",
        "g.add_edge(\"general_queue_department\", \"behavioral_health_department\")\n",
        "g.add_edge(\"member_department\", \"pharmacy_department\")\n",
        "g.add_edge(\"member_department\", \"pre_certification_department\")\n",
        "g.add_edge(\"member_department\", \"behavioral_health_department\")\n",
        "g.add_edge(\"provider_department\", \"pharmacy_department\")\n",
        "g.add_edge(\"provider_department\", \"pre_certification_department\")\n",
        "g.add_edge(\"provider_department\", \"behavioral_health_department\")\n",
        "\n",
        "# define a call route based on the caller type and whether they agreed to participate in the survey\n",
        "caller_type = input(\"Thank you for calling CMSC204 Insurance. Are you a member or a provider?\")\n",
        "survey_agreed = input(\"Do you want to participate in the survey? (yes/no)\")\n",
        "route = g.route_call(caller_type, survey_agreed == \"yes\")\n",
        "\n",
        "# determine which department the call has been routed to based on the value of route \n",
        "# and if transfer to other departments will be made based on the caller's selection\n",
        "if route == \"Route call to member department\":\n",
        "    print(\"You have been routed to the member department.\")\n",
        "    transfer = input(\"Would you like to be transferred to the pharmacy department, pre-certification department, or behavioral health department? (yes/no)\")\n",
        "    if transfer == \"yes\":\n",
        "        transfer_dept = input(\"Which department would you like to be transferred to? (pharmacy/pre-certification/behavioral health)\")\n",
        "        print(f\"You have been transferred to the {transfer_dept} department.\")\n",
        "    else:\n",
        "        print(\"Thank you for calling.\")\n",
        "elif route == \"Route call to provider department\":\n",
        "    print(\"You have been routed to the provider department.\")\n",
        "    transfer = input(\"Would you like to be transferred to the pharmacy department, pre-certification department, or behavioral health department? (yes/no)\")\n",
        "    if transfer == \"yes\":\n",
        "        transfer_dept = input(\"Which department would you like to be transferred to? (pharmacy/pre-certification/behavioral health)\")\n",
        "        print(f\"You have been transferred to the {transfer_dept} department.\")\n",
        "    else:\n",
        "        print(\"Thank you for calling.\")\n",
        "else:\n",
        "    print(\"You have been routed to the general queue department.\")\n",
        "    transfer = input(\"Would you like to be transferred to the pharmacy department, pre-certification department, or behavioral health department? (yes/no)\")\n",
        "    if transfer == \"yes\":\n",
        "        transfer_dept = input(\"Which department would you like to be transferred to? (pharmacy/pre-certification/behavioral health)\")\n",
        "        print(f\"You have been transferred to the {transfer_dept} department.\")\n",
        "    else:\n",
        "        print(\"Thank you for calling.\")\n",
        "\n",
        "# closing of the call\n",
        "if survey_agreed == 'yes':\n",
        "  print('You will now be transferred to the survey.')\n",
        "else:\n",
        "  print('Thank you for calling CMSC204 Insurance. Have a great day!.')"
      ],
      "metadata": {
        "id": "PU4xqi6MJ5iY"
      },
      "execution_count": null,
      "outputs": []
    },
    {
      "cell_type": "code",
      "source": [
        "#import necessary libraries\n",
        "import networkx as nx\n",
        "import matplotlib.pyplot as plt\n",
        "\n",
        "#create the edges bases on the pairs of vertices in the call route\n",
        "G = nx.Graph()\n",
        "G.add_edges_from([(\"main_number\", \"general_queue_department\"), (\"main_number\", \"member_department\"), (\"main_number\", \"provider_department\"), (\"general_queue_department\", \"pharmacy_department\"), (\"general_queue_department\", \"pre_certification_department\"), (\"general_queue_department\", \"behavioral_health_department\"), (\"member_department\", \"pharmacy_department\"), (\"member_department\", \"pre_certification_department\"), (\"member_department\", \"behavioral_health_department\"), (\"provider_department\", \"pharmacy_department\"), (\"provider_department\", \"pre_certification_department\"), (\"provider_department\", \"behavioral_health_department\")])\n",
        "\n",
        "nx.draw(G, with_labels=True)\n",
        "plt.show()"
      ],
      "metadata": {
        "id": "Zpxqwue1W869"
      },
      "execution_count": null,
      "outputs": []
    }
  ]
}