{
  "nbformat": 4,
  "nbformat_minor": 0,
  "metadata": {
    "colab": {
      "provenance": [],
      "include_colab_link": true
    },
    "kernelspec": {
      "name": "python3",
      "display_name": "Python 3"
    },
    "language_info": {
      "name": "python"
    }
  },
  "cells": [
    {
      "cell_type": "markdown",
      "metadata": {
        "id": "view-in-github",
        "colab_type": "text"
      },
      "source": [
        "<a href=\"https://colab.research.google.com/github/7Blessings7/Final-Project-CMS204/blob/main/38_Tumaliuan_Contact_Tracing.ipynb\" target=\"_parent\"><img src=\"https://colab.research.google.com/assets/colab-badge.svg\" alt=\"Open In Colab\"/></a>"
      ]
    },
    {
      "cell_type": "code",
      "execution_count": null,
      "metadata": {
        "colab": {
          "base_uri": "https://localhost:8080/"
        },
        "id": "rlN63UH-HNmv",
        "outputId": "c1c83c4e-86d0-4ef5-bf7d-2ddf368c0e1e"
      },
      "outputs": [
        {
          "output_type": "stream",
          "name": "stdout",
          "text": [
            "=============================\n",
            "Contact Tracing\n",
            "=============================\n",
            "Input name to search for direct contact\n",
            "Input 'Exit' to terminate application\n",
            "\n",
            "Search Name: Sehana\n",
            "Contact Tracing of Sehana using BFS: ['Sehana', 'Emmett', 'Ada', 'Tim', 'George', 'Karen', 'Anna', 'Fatih', 'Barry', 'Nin', 'Sab']\n",
            "Direct Contact of Sehana is/are : ['Emmett']\n",
            "\n",
            "Search Again: Nin\n",
            "Contact Tracing of Nin using BFS: ['Nin', 'Fatih', 'Sab']\n",
            "Direct Contact of Nin is/are : ['Fatih']\n",
            "\n",
            "Search Again: Rara\n",
            "Contact Tracing of Rara using BFS: ['Rara', 'Ananda']\n",
            "Direct Contact of Rara is/are : ['Ananda']\n",
            "\n",
            "Thank you for using Contact Tracing\n"
          ]
        }
      ],
      "source": [
        "class Graph:\n",
        "    def __init__(self, edges):\n",
        "        self.edges = edges\n",
        "        self.graph_dict ={}\n",
        "        for start, end in edges:\n",
        "            if start in self.graph_dict:\n",
        "              self.graph_dict[start].append(end)\n",
        "            else:\n",
        "              self.graph_dict[start] = [end]\n",
        "        self.graph_dict[end] = [end]\n",
        "\n",
        "    def get_contact_through_bfs(self, person):\n",
        "\n",
        "      visited = []                    #List for visited nodes. Blank array\n",
        "      queue = []                      #Initializing a queue\n",
        "\n",
        "      visited.append(person)\n",
        "      queue.append(person)\n",
        "\n",
        "      while queue:                            #Creating loop to visit each node\n",
        "        p = queue.pop(0)\n",
        "        for neighbour in self.graph_dict[p]:  #Check the neighbors, if not visited,\n",
        "          if neighbour not in visited:        #it will be added to the visited array. The\n",
        "            visited.append(neighbour)         #loop will continue until the queue is empty\n",
        "            queue.append(neighbour)\n",
        "      return visited\n",
        "\n",
        "    def get_contact(self, person):\n",
        "        return self.graph_dict[person]\n",
        "\n",
        "if __name__ == '__main__':\n",
        "\n",
        "    routes = [                                  #List of tuples indicating direct contact\n",
        "        (\"Karen\", \"Tim\"),\n",
        "        (\"Karen\", \"Ada\"),\n",
        "        (\"Karen\", \"Barry\"),\n",
        "        (\"Tim\", \"Karen\"),\n",
        "        (\"Tim\", \"Ada\"),\n",
        "        (\"Tim\", \"Anna\"),\n",
        "        (\"Tim\", \"Fatih\"),\n",
        "        (\"Ada\", \"Tim\"),\n",
        "        (\"Ada\", \"George\"),\n",
        "        (\"Ada\", \"Emmett\"),\n",
        "        (\"Anna\", \"Tim\"),\n",
        "        (\"Anna\", \"George\"),\n",
        "        (\"Fatih\", \"Nin\"),\n",
        "        (\"Fatih\", \"Sab\"),\n",
        "        (\"Nin\", \"Fatih\"),\n",
        "        (\"Sab\", \"Fatih\"),\n",
        "        (\"George\", \"Anna\"),\n",
        "        (\"George\", \"Ada\"),\n",
        "        (\"Emmett\", \"Ada\"),\n",
        "        (\"Emmett\", \"Sehana\"),\n",
        "        (\"Sehana\", \"Emmett\"),\n",
        "        (\"Barry\", \"Karen\"),\n",
        "        (\"Barry\", \"Ananda\"),\n",
        "        (\"Ananda\", \"Barry\"),\n",
        "        (\"Ananda\", \"Rara\"),\n",
        "        (\"Rara\", \"Ananda\"),\n",
        "    ]\n",
        "\n",
        "    visited = []\n",
        "    queue = []\n",
        "\n",
        "    print(\"=============================\\nContact Tracing\\n=============================\")  #Driver code\n",
        "    print(\"Input name to search for direct contact\")\n",
        "    print(\"Input 'Exit' to terminate application\")\n",
        "    \n",
        "    name = input(\"\\nSearch Name: \")\n",
        "    while name != \"Exit\":\n",
        "        route_graph = Graph(routes)              #object of the Graph class                             \n",
        "        print(f\"Contact Tracing of {name} using BFS:\",route_graph.get_contact_through_bfs(name)) #calling function\n",
        "        print(f\"Direct Contact of {name} is/are :\" , route_graph.get_contact(name))\n",
        "        name = input(\"\\nSearch Again: \")\n",
        "    print(\"\\nThank you for using Contact Tracing\")\n",
        "    quit()"
      ]
    }
  ]
}