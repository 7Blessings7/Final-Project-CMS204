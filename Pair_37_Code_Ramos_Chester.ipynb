{
  "nbformat": 4,
  "nbformat_minor": 0,
  "metadata": {
    "colab": {
      "provenance": [],
      "include_colab_link": true
    },
    "kernelspec": {
      "name": "python3",
      "display_name": "Python 3"
    },
    "language_info": {
      "name": "python"
    }
  },
  "cells": [
    {
      "cell_type": "markdown",
      "metadata": {
        "id": "view-in-github",
        "colab_type": "text"
      },
      "source": [
        "<a href=\"https://colab.research.google.com/github/7Blessings7/Final-Project-CMS204/blob/main/Pair_37_Code_Ramos_Chester.ipynb\" target=\"_parent\"><img src=\"https://colab.research.google.com/assets/colab-badge.svg\" alt=\"Open In Colab\"/></a>"
      ]
    },
    {
      "cell_type": "markdown",
      "source": [
        "# **RAMOS Final Project**\n",
        "**FINAL PROJECT LOG:**\n",
        "\n",
        "At the end of of this activity, you should be able to:\n",
        "Identify a real world problem that can be solved using the graph data structure; \n",
        " \n",
        "\n",
        "*   Use Python to implement implement graphs and related data structures to solve a real world problem; and\n",
        "*   Demonstrate how the code runs through a screencast.\n",
        "\n",
        "\n",
        "CODEBASICS VIDEO LECTURE:\n",
        "https://www.youtube.com/watch?v=j0IYCyBdzfA"
      ],
      "metadata": {
        "id": "jengF5mMWrIe"
      }
    },
    {
      "cell_type": "code",
      "source": [
        "class Graph:\n",
        "  def __init__(self, edges):                                                    # Initialize edges\n",
        "    self.edges = edges\n",
        "    self.graph_dict = {}                                                        # Create graph dictionary of the connected city airports\n",
        "    for start, end in self.edges:                                               \n",
        "      if start in self.graph_dict:                                              # Insert the second and succeeding items in the dictionary\n",
        "        self.graph_dict[start].append(end)\n",
        "      else:\n",
        "        self.graph_dict[start] = [end]                                          # Insert the first item in the dictionary\n",
        "    print(\"Graph dict:\", self.graph_dict)\n",
        "\n",
        "  def get_paths(self, start, end, path=[]):                                     # Create a combination of city airports (non-repeating city airports per individual array)\n",
        "    path = path + [start]\n",
        "    if start == end:                                                            # If the first city and last city is the same, return the same city name in the array..\n",
        "      return [path]\n",
        "\n",
        "    if start not in self.graph_dict:                                            # If the first city is not in the dictionary, return the array empty..\n",
        "      return []\n",
        "\n",
        "    paths = []\n",
        "\n",
        "    for node in self.graph_dict[start]:                                         # Get all routes\n",
        "      if node not in path:\n",
        "        new_paths = self.get_paths(node, end, path)\n",
        "        for p in new_paths:\n",
        "          paths.append(p)\n",
        "\n",
        "    return paths"
      ],
      "metadata": {
        "id": "aqRNERexOupm"
      },
      "execution_count": null,
      "outputs": []
    },
    {
      "cell_type": "markdown",
      "source": [
        "**PERSONAL CODES**"
      ],
      "metadata": {
        "id": "5n8vCZ9qMyuD"
      }
    },
    {
      "cell_type": "code",
      "source": [
        "def create_array(number_of_cities):                                             # We specify city airport as 1,2,3 to max number of city airport. \n",
        "  arr = []\n",
        "\n",
        "  for element in range(1,number_of_cities+1):                                   # We start creating an array based on the specified max number of city airport\n",
        "    arr.append(element)\n",
        "  \n",
        "  return arr\n",
        "\n",
        "def create_connections(number_of_cities):                                       # We create and array with two elements, such each array does not have a repeating value\n",
        "  arr = create_array(number_of_cities)                                          # the result is then used to create a graph dictionary later\n",
        "  route = []\n",
        "\n",
        "  for elem in arr:\n",
        "    n = [x for x in arr if x != elem]\n",
        "    for i in n:\n",
        "      route.append([elem,i])\n",
        "\n",
        "  return route\n",
        "\n",
        "def sum_path(path):                                                             # We calculate the sum of tank of fuel needed for each route\n",
        "  modified_path = []\n",
        "  for i, val in enumerate(path):                                                # This is done using for loop\n",
        "    if i != 0:\n",
        "      modified_path.append(abs(path[i-1]-path[i]))                              # Assumming adjacent numbers as adjacent city airport. 1 tank of fuel is consumed per adjacent city.\n",
        "\n",
        "  total = sum(modified_path)\n",
        "  return total\n",
        "\n",
        "def matched_paths(giventotal, paths):                                           # All routes are filtered based on the maximum tank fuel that can be consumed per day.\n",
        "  matched = []\n",
        "\n",
        "  if paths is None:                                                             # If there is no route, then we return an empty array\n",
        "    return []\n",
        "\n",
        "  for path in paths:\n",
        "    sum = sum_path(path)                                                        # Sum of fuel consumption per path is done by calling the sum_path function\n",
        "\n",
        "    if sum == giventotal or sum < giventotal:                                   # A routes fuel consumption should be <= max number of tank of fuel\n",
        "      matched.append(path)                                                      # we will append the route that matches the condition\n",
        "\n",
        "  return matched                                                      \n",
        "\n",
        "def best_route(paths):\n",
        "  if paths is None or len(paths) == 0:                                          # If there is no route, then we return an empty array\n",
        "    return []\n",
        "\n",
        "  len_basis = len(paths[0])                                                     # we find the route with max length\n",
        "  routes = []\n",
        "\n",
        "  for path in paths:                                                            # this is done by using for loop\n",
        "    if len(path) > len_basis:\n",
        "      len_basis = len(path)\n",
        "\n",
        "  for path in paths:                                                            # after we determine the max length, we determine the array with that matches that max length\n",
        "    if len(path) == len_basis:\n",
        "      routes.append(path)                                                       # we append and then return it\n",
        "\n",
        "  return routes\n",
        "\n"
      ],
      "metadata": {
        "id": "n--6Y-35fiz1"
      },
      "execution_count": null,
      "outputs": []
    },
    {
      "cell_type": "markdown",
      "source": [
        "**SOLUTION:**"
      ],
      "metadata": {
        "id": "e4EjBJc077PJ"
      }
    },
    {
      "cell_type": "code",
      "source": [
        "if __name__ == '__main__':\n",
        "\n",
        "    # VARIABLES\n",
        "    max_city = 5\n",
        "    initial_city = 2\n",
        "    final_city = 3\n",
        "    max_fuel_per_day = 3\n",
        "\n",
        "    # CREATE ARRAY OF CITIES (ASSIGNED AS NUMBERS) and CONNECT THEM ALL TO EACH OTHER\n",
        "    connections = create_connections(max_city)\n",
        "\n",
        "    # GRAPHS - SOLUTIONS\n",
        "    route_graph = Graph(connections)\n",
        "    print(\"=\"*120) #====================================================================================================\n",
        "\n",
        "    routes = route_graph.get_paths(initial_city,final_city)\n",
        "    print(f\"There are {len(routes)} different routes that an airplane can take.\")\n",
        "    print(f\"All Routes from {initial_city} and {final_city}:\", routes)\n",
        "    print(\"=\"*120) #====================================================================================================\n",
        "    matched = matched_paths(max_fuel_per_day, routes)\n",
        "    print(f\"There are {len(matched)} available route(/s) that an airplane can take to maximize fuel consumption and profit based on max fuel and no. of city airports visited.\")\n",
        "    print(f\"Available Routes from {initial_city} and {final_city}:\", matched)\n",
        "    print(\"=\"*120) #====================================================================================================\n",
        "    best = best_route(matched)\n",
        "    print(f\"There are {len(best)} best route(/s) that an airplane can take to maximize fuel consumption and profit based on max fuel and no. of city airports visited.\")\n",
        "    print(f\"Best Routes from {initial_city} and {final_city}:\", best)"
      ],
      "metadata": {
        "colab": {
          "base_uri": "https://localhost:8080/"
        },
        "id": "JZ_w2Fcuu1lm",
        "outputId": "56edbc51-b1cd-42df-efcc-4b24416e25d5"
      },
      "execution_count": null,
      "outputs": [
        {
          "output_type": "stream",
          "name": "stdout",
          "text": [
            "Graph dict: {1: [2, 3, 4, 5], 2: [1, 3, 4, 5], 3: [1, 2, 4, 5], 4: [1, 2, 3, 5], 5: [1, 2, 3, 4]}\n",
            "========================================================================================================================\n",
            "There are 16 different routes that an airplane can take.\n",
            "All Routes from 2 and 3: [[2, 1, 3], [2, 1, 4, 3], [2, 1, 4, 5, 3], [2, 1, 5, 3], [2, 1, 5, 4, 3], [2, 3], [2, 4, 1, 3], [2, 4, 1, 5, 3], [2, 4, 3], [2, 4, 5, 1, 3], [2, 4, 5, 3], [2, 5, 1, 3], [2, 5, 1, 4, 3], [2, 5, 3], [2, 5, 4, 1, 3], [2, 5, 4, 3]]\n",
            "========================================================================================================================\n",
            "There are 3 available route(/s) that an airplane can take to maximize fuel consumption and profit based on max fuel and no. of city airports visited.\n",
            "Available Routes from 2 and 3: [[2, 1, 3], [2, 3], [2, 4, 3]]\n",
            "========================================================================================================================\n",
            "There are 2 best route(/s) that an airplane can take to maximize fuel consumption and profit based on max fuel and no. of city airports visited.\n",
            "Best Routes from 2 and 3: [[2, 1, 3], [2, 4, 3]]\n"
          ]
        }
      ]
    }
  ]
}