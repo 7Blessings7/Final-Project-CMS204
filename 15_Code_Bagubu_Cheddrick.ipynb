{
  "nbformat": 4,
  "nbformat_minor": 0,
  "metadata": {
    "colab": {
      "provenance": [],
      "include_colab_link": true
    },
    "kernelspec": {
      "name": "python3",
      "display_name": "Python 3"
    },
    "language_info": {
      "name": "python"
    }
  },
  "cells": [
    {
      "cell_type": "markdown",
      "metadata": {
        "id": "view-in-github",
        "colab_type": "text"
      },
      "source": [
        "<a href=\"https://colab.research.google.com/github/7Blessings7/Final-Project-CMS204/blob/main/15_Code_Bagubu_Cheddrick.ipynb\" target=\"_parent\"><img src=\"https://colab.research.google.com/assets/colab-badge.svg\" alt=\"Open In Colab\"/></a>"
      ]
    },
    {
      "cell_type": "code",
      "source": [
        "import networkx as nx\n",
        "import matplotlib.pyplot as plt\n",
        "from collections import defaultdict\n",
        "\n",
        "\n",
        "class Graph:\n",
        "    def __init__(self):\n",
        "        self.graph = defaultdict(list)\n",
        "\n",
        "    def add_edge(self, course, prerequisite):\n",
        "        self.graph[course].append(prerequisite)\n",
        "\n",
        "    def topological_sort_util(self, course, visited, stack):\n",
        "        visited[course] = True\n",
        "\n",
        "        for prerequisite in self.graph[course]:\n",
        "            if not visited[prerequisite]:\n",
        "                self.topological_sort_util(prerequisite, visited, stack)\n",
        "\n",
        "        stack.append(course)\n",
        "\n",
        "    def topological_sort(self):\n",
        "        visited = defaultdict(bool)\n",
        "        stack = []\n",
        "\n",
        "        # Create a copy of the graph dictionary\n",
        "        graph_copy = self.graph.copy()\n",
        "        for course in graph_copy:\n",
        "            if not visited[course]:\n",
        "                self.topological_sort_util(course, visited, stack)\n",
        "\n",
        "        return stack[::-1]\n",
        "\n",
        "    def schedule_courses(self):\n",
        "        course_order = self.topological_sort()\n",
        "\n",
        "        schedule = []\n",
        "        for course in course_order:\n",
        "            if not any(prerequisite in schedule for prerequisite in self.graph[course]):\n",
        "                schedule.append(course)\n",
        "\n",
        "        return schedule\n",
        "\n",
        "\n",
        "# Example usage:\n",
        "course_graph = Graph()\n",
        "course_graph.add_edge('C', 'A')\n",
        "course_graph.add_edge('C', 'B')\n",
        "course_graph.add_edge('A', 'D')\n",
        "course_graph.add_edge('B', 'D')\n",
        "course_graph.add_edge('D', 'E')\n",
        "\n",
        "course_schedule = course_graph.schedule_courses()\n",
        "print(course_schedule)\n",
        "\n",
        "# Creating a directed graph for visualization\n",
        "G = nx.DiGraph()\n",
        "\n",
        "# Adding edges to the graph\n",
        "for course, prerequisites in course_graph.graph.items():\n",
        "    for prerequisite in prerequisites:\n",
        "        G.add_edge(prerequisite, course)\n",
        "\n",
        "# Creating a layout for the graph\n",
        "pos = nx.spring_layout(G)\n",
        "\n",
        "# Drawing the graph nodes and edges\n",
        "nx.draw_networkx_nodes(G, pos, node_color='lightblue', node_size=500)\n",
        "nx.draw_networkx_edges(G, pos, edge_color='gray', arrows=True)\n",
        "nx.draw_networkx_labels(G, pos, font_color='black')\n",
        "\n",
        "# Highlighting the scheduled courses with red color\n",
        "highlighted_nodes = course_schedule\n",
        "nx.draw_networkx_nodes(G, pos, nodelist=highlighted_nodes, node_color='red', node_size=500)\n",
        "\n",
        "# Displaying the graph\n",
        "plt.title(\"Course Scheduling\")\n",
        "plt.axis('off')\n",
        "plt.show()"
      ],
      "metadata": {
        "colab": {
          "base_uri": "https://localhost:8080/"
        },
        "id": "UAtpPg4sH-SR",
        "outputId": "4ccc0fa6-5b34-494e-defe-9af99e9275bf"
      },
      "execution_count": null,
      "outputs": [
        {
          "output_type": "stream",
          "name": "stdout",
          "text": [
            "['C', 'B', 'A', 'D', 'E']\n"
          ]
        },
        {
          "output_type": "display_data",
          "data": {
            "text/plain": [
              "<Figure size 640x480 with 1 Axes>"
            ],
            "image/png": "[encoded data removed]"
          },
          "metadata": {}
        }
      ]
    }
  ]
}