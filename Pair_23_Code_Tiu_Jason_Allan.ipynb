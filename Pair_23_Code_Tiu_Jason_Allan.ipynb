{
  "nbformat": 4,
  "nbformat_minor": 0,
  "metadata": {
    "colab": {
      "provenance": [],
      "include_colab_link": true
    },
    "kernelspec": {
      "name": "python3",
      "display_name": "Python 3"
    },
    "language_info": {
      "name": "python"
    }
  },
  "cells": [
    {
      "cell_type": "markdown",
      "metadata": {
        "id": "view-in-github",
        "colab_type": "text"
      },
      "source": [
        "<a href=\"https://colab.research.google.com/github/7Blessings7/Final-Project-CMS204/blob/main/Pair_23_Code_Tiu_Jason_Allan.ipynb\" target=\"_parent\"><img src=\"https://colab.research.google.com/assets/colab-badge.svg\" alt=\"Open In Colab\"/></a>"
      ]
    },
    {
      "cell_type": "code",
      "execution_count": null,
      "metadata": {
        "colab": {
          "base_uri": "https://localhost:8080/"
        },
        "id": "csmsb9ORzJd5",
        "outputId": "50e52ba2-e3ac-4b74-daf8-e964107cc414"
      },
      "outputs": [
        {
          "output_type": "stream",
          "name": "stdout",
          "text": [
            "Enter your starting aisle: Deli\n",
            "Enter your ending aisle: Foods\n",
            "No path found between the two aisles.\n"
          ]
        }
      ],
      "source": [
        "class AisleGraph:\n",
        "    def __init__(self):\n",
        "        self.graph = {\n",
        "            'Produce': ['Bakery', 'Deli'],\n",
        "            'Bakery': ['Produce', 'Deli', 'Canned Goods'],\n",
        "            'Deli': ['Produce', 'Bakery', 'Canned Goods', 'Meat'],\n",
        "            'Canned Goods': ['Bakery', 'Deli', 'Meat', 'Frozen Foods'],\n",
        "            'Meat': ['Deli', 'Canned Goods', 'Frozen Foods'],\n",
        "            'Frozen Foods': ['Canned Goods', 'Meat']\n",
        "        }\n",
        "        \n",
        "    def get_neighbors(self, node):\n",
        "        return self.graph[node]\n",
        "    \n",
        "grocery_map = AisleGraph()\n",
        "\n",
        "# Prompt the user to enter their starting and ending aisles\n",
        "start_aisle = input(\"Enter your starting aisle: \")\n",
        "end_aisle = input(\"Enter your ending aisle: \")\n",
        "\n",
        "# Find the shortest path between the two aisles using Dijkstra's algorithm\n",
        "visited = {start_aisle}\n",
        "queue = [(start_aisle, [])]\n",
        "while queue:\n",
        "    (current, path) = queue.pop(0)\n",
        "    if current == end_aisle:\n",
        "        print(\"Please proceed to\", path + [current])\n",
        "        break\n",
        "    for neighbor in grocery_map.get_neighbors(current):\n",
        "        if neighbor not in visited:\n",
        "            visited.add(neighbor)\n",
        "            queue.append((neighbor, path + [current]))\n",
        "else:\n",
        "    print(\"No path found between the two aisles.\")\n"
      ]
    }
  ]
}