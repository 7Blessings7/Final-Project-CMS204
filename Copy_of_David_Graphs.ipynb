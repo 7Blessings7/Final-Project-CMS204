{
  "nbformat": 4,
  "nbformat_minor": 0,
  "metadata": {
    "colab": {
      "provenance": [],
      "include_colab_link": true
    },
    "kernelspec": {
      "name": "python3",
      "display_name": "Python 3"
    },
    "language_info": {
      "name": "python"
    }
  },
  "cells": [
    {
      "cell_type": "markdown",
      "metadata": {
        "id": "view-in-github",
        "colab_type": "text"
      },
      "source": [
        "<a href=\"https://colab.research.google.com/github/7Blessings7/Final-Project-CMS204/blob/main/Copy_of_David_Graphs.ipynb\" target=\"_parent\"><img src=\"https://colab.research.google.com/assets/colab-badge.svg\" alt=\"Open In Colab\"/></a>"
      ]
    },
    {
      "cell_type": "code",
      "execution_count": null,
      "metadata": {
        "id": "I7nwxIKhFh3p"
      },
      "outputs": [],
      "source": [
        "import heapq #We will use this in calculating the shortest distance.\n",
        "\n",
        "class Graph: #creates graph that can visualize the graph.\n",
        "  def __init__(self):\n",
        "    self.data = {} #sets our data to dictionary. Format is vertex - key, adjacent and weights - value pair as list.\n",
        "\n",
        "  def add_node(self, node): #add node or the vertex.\n",
        "    if node in self.data:\n",
        "      print(node, \"is already in the graph. Please pick another place.\")\n",
        "    else:\n",
        "      self.data[node] = {} #adds node.\n",
        "  \n",
        "  def add_edge(self, node_1, node_2, distance):\n",
        "    if node_1 not in self.data:\n",
        "      print(node_1, \"Is not in the graph. Please pick the correct place.\")\n",
        "    elif node_2 not in self.data:\n",
        "      print(node_2, \"Is not in the graph. Please pick the correct place.\")\n",
        "    else:\n",
        "      self.data[node_1][node_2] = distance\n",
        "      self.data[node_2][node_1] = distance\n",
        "  def shortest_path(self, start):\n",
        "    distances = {nodes: float('inf') for nodes in self.data} #Set the minimum distance to infinity so that we are sure that it will replace with minimum number.\n",
        "    distances[start] = 0 #set the initial distance of source to zero since this is the starting point of path.\n",
        "    pq = [(0, start)] #initial value in tuple that will use in while loop.\n",
        "    while pq: #It will check it there is still a node that is visited. If not, it will end the loop.\n",
        "      now_distance, now_node = heapq.heappop(pq) #removes the smallest value and assign to now distance and corresponding node/vertex.\n",
        "      if now_distance > distances[now_node]: #This will check if the distance is larger than the current distance. If yes, the loop will skip and continue.\n",
        "        continue\n",
        "      for neighbor, weight in self.data[now_node].items(): #It will extract the neighbor place and distance given the current node.\n",
        "        distance = now_distance + weight #It will add the current distance generated and the new distance which came from neighbor.\n",
        "        if distance < distances[neighbor]: #For checking if distance is less than the distannce if neighbor place\n",
        "          distances[neighbor] = distance\n",
        "          heapq.heappush(pq, (distance, neighbor)) #Using the heap function, It will add the distance and neighbor place in variable pq. This will be used in next iteration (while loop)\n",
        "    return distances\n"
      ]
    },
    {
      "cell_type": "code",
      "source": [
        "g1 = Graph()\n",
        "g1.add_node(\"Bacoor\")\n",
        "g1.add_node(\"Kawit\")\n",
        "g1.add_node(\"Imus\")\n",
        "g1.add_node(\"Tanza\")\n",
        "g1.add_node(\"Trece\")\n",
        "g1.add_node(\"Dasma\")\n",
        "g1.add_node(\"Silang\")\n",
        "g1.add_node(\"Tagaytay\")\n",
        "g1.add_node(\"Molino\")\n",
        "g1.add_node(\"GMA\")\n",
        "g1.add_node(\"San Pedro\")\n",
        "g1.add_node(\"Carmona\")\n",
        "g1.add_node(\"Binan\")\n",
        "g1.add_node(\"Sta Rosa\")\n",
        "g1.add_node(\"Calamba\")\n",
        "print(g1.data)\n"
      ],
      "metadata": {
        "colab": {
          "base_uri": "https://localhost:8080/"
        },
        "id": "GOqnqduLG44y",
        "outputId": "55e400d2-b8d7-43fd-b55c-0a4dd28ec0d1"
      },
      "execution_count": null,
      "outputs": [
        {
          "output_type": "stream",
          "name": "stdout",
          "text": [
            "{'Bacoor': {}, 'Kawit': {}, 'Imus': {}, 'Tanza': {}, 'Trece': {}, 'Dasma': {}, 'Silang': {}, 'Tagaytay': {}, 'Molino': {}, 'GMA': {}, 'San Pedro': {}, 'Carmona': {}, 'Binan': {}, 'Sta Rosa': {}, 'Calamba': {}}\n"
          ]
        }
      ]
    },
    {
      "cell_type": "code",
      "source": [
        "g1.add_edge(\"Bacoor\",\"Kawit\", 14)\n",
        "g1.add_edge(\"Bacoor\",\"Imus\", 7)\n",
        "g1.add_edge(\"Imus\",\"Kawit\", 8)\n",
        "g1.add_edge(\"Tanza\",\"Kawit\", 13)\n",
        "g1.add_edge(\"Tanza\",\"Trece\", 8)\n",
        "g1.add_edge(\"Imus\",\"Dasma\", 13)\n",
        "g1.add_edge(\"Dasma\",\"Silang\", 10)\n",
        "g1.add_edge(\"Trece\",\"Dasma\", 11)\n",
        "g1.add_edge(\"Silang\",\"Tagaytay\", 10)\n",
        "g1.add_edge(\"Imus\",\"Molino\", 6)\n",
        "g1.add_edge(\"Bacoor\",\"Molino\", 4)\n",
        "g1.add_edge(\"Molino\",\"GMA\", 16)\n",
        "g1.add_edge(\"Dasma\",\"GMA\", 8)\n",
        "g1.add_edge(\"GMA\",\"Carmona\", 6)\n",
        "g1.add_edge(\"Molino\",\"San Pedro\", 13)\n",
        "g1.add_edge(\"San Pedro\",\"Carmona\", 10)\n",
        "g1.add_edge(\"Carmona\",\"Binan\", 8)\n",
        "g1.add_edge(\"Binan\",\"Sta Rosa\", 18)\n",
        "g1.add_edge(\"Tagaytay\",\"Sta Rosa\", 18)\n",
        "g1.add_edge(\"Sta Rosa\",\"Calamba\", 15)\n",
        "print(g1.data)"
      ],
      "metadata": {
        "colab": {
          "base_uri": "https://localhost:8080/",
          "height": 235
        },
        "id": "eLQcjkxMHHZz",
        "outputId": "767d59a2-2828-41d6-a514-cc9aa0951b7d"
      },
      "execution_count": null,
      "outputs": [
        {
          "output_type": "error",
          "ename": "NameError",
          "evalue": "ignored",
          "traceback": [
            "\u001b[0;31m---------------------------------------------------------------------------\u001b[0m",
            "\u001b[0;31mNameError\u001b[0m                                 Traceback (most recent call last)",
            "\u001b[0;32m<ipython-input-2-712ee1368311>\u001b[0m in \u001b[0;36m<cell line: 1>\u001b[0;34m()\u001b[0m\n\u001b[0;32m----> 1\u001b[0;31m \u001b[0mg1\u001b[0m\u001b[0;34m.\u001b[0m\u001b[0madd_edge\u001b[0m\u001b[0;34m(\u001b[0m\u001b[0;34m\"Bacoor\"\u001b[0m\u001b[0;34m,\u001b[0m\u001b[0;34m\"Kawit\"\u001b[0m\u001b[0;34m,\u001b[0m \u001b[0;36m14\u001b[0m\u001b[0;34m)\u001b[0m\u001b[0;34m\u001b[0m\u001b[0;34m\u001b[0m\u001b[0m\n\u001b[0m\u001b[1;32m      2\u001b[0m \u001b[0mg1\u001b[0m\u001b[0;34m.\u001b[0m\u001b[0madd_edge\u001b[0m\u001b[0;34m(\u001b[0m\u001b[0;34m\"Bacoor\"\u001b[0m\u001b[0;34m,\u001b[0m\u001b[0;34m\"Imus\"\u001b[0m\u001b[0;34m,\u001b[0m \u001b[0;36m7\u001b[0m\u001b[0;34m)\u001b[0m\u001b[0;34m\u001b[0m\u001b[0;34m\u001b[0m\u001b[0m\n\u001b[1;32m      3\u001b[0m \u001b[0mg1\u001b[0m\u001b[0;34m.\u001b[0m\u001b[0madd_edge\u001b[0m\u001b[0;34m(\u001b[0m\u001b[0;34m\"Imus\"\u001b[0m\u001b[0;34m,\u001b[0m\u001b[0;34m\"Kawit\"\u001b[0m\u001b[0;34m,\u001b[0m \u001b[0;36m8\u001b[0m\u001b[0;34m)\u001b[0m\u001b[0;34m\u001b[0m\u001b[0;34m\u001b[0m\u001b[0m\n\u001b[1;32m      4\u001b[0m \u001b[0mg1\u001b[0m\u001b[0;34m.\u001b[0m\u001b[0madd_edge\u001b[0m\u001b[0;34m(\u001b[0m\u001b[0;34m\"Tanza\"\u001b[0m\u001b[0;34m,\u001b[0m\u001b[0;34m\"Kawit\"\u001b[0m\u001b[0;34m,\u001b[0m \u001b[0;36m13\u001b[0m\u001b[0;34m)\u001b[0m\u001b[0;34m\u001b[0m\u001b[0;34m\u001b[0m\u001b[0m\n\u001b[1;32m      5\u001b[0m \u001b[0mg1\u001b[0m\u001b[0;34m.\u001b[0m\u001b[0madd_edge\u001b[0m\u001b[0;34m(\u001b[0m\u001b[0;34m\"Tanza\"\u001b[0m\u001b[0;34m,\u001b[0m\u001b[0;34m\"Trece\"\u001b[0m\u001b[0;34m,\u001b[0m \u001b[0;36m8\u001b[0m\u001b[0;34m)\u001b[0m\u001b[0;34m\u001b[0m\u001b[0;34m\u001b[0m\u001b[0m\n",
            "\u001b[0;31mNameError\u001b[0m: name 'g1' is not defined"
          ]
        }
      ]
    },
    {
      "cell_type": "code",
      "source": [
        "for x in g1.data:\n",
        "  print(x,g1.data[x])"
      ],
      "metadata": {
        "colab": {
          "base_uri": "https://localhost:8080/",
          "height": 183
        },
        "id": "rYTISG8xNs18",
        "outputId": "1b20261f-3cf4-4196-f7cc-17760f7b7ad6"
      },
      "execution_count": null,
      "outputs": [
        {
          "output_type": "error",
          "ename": "NameError",
          "evalue": "ignored",
          "traceback": [
            "\u001b[0;31m---------------------------------------------------------------------------\u001b[0m",
            "\u001b[0;31mNameError\u001b[0m                                 Traceback (most recent call last)",
            "\u001b[0;32m<ipython-input-3-c52716ea8361>\u001b[0m in \u001b[0;36m<cell line: 1>\u001b[0;34m()\u001b[0m\n\u001b[0;32m----> 1\u001b[0;31m \u001b[0;32mfor\u001b[0m \u001b[0mx\u001b[0m \u001b[0;32min\u001b[0m \u001b[0mg1\u001b[0m\u001b[0;34m.\u001b[0m\u001b[0mdata\u001b[0m\u001b[0;34m:\u001b[0m\u001b[0;34m\u001b[0m\u001b[0;34m\u001b[0m\u001b[0m\n\u001b[0m\u001b[1;32m      2\u001b[0m   \u001b[0mprint\u001b[0m\u001b[0;34m(\u001b[0m\u001b[0mx\u001b[0m\u001b[0;34m,\u001b[0m\u001b[0mg1\u001b[0m\u001b[0;34m.\u001b[0m\u001b[0mdata\u001b[0m\u001b[0;34m[\u001b[0m\u001b[0mx\u001b[0m\u001b[0;34m]\u001b[0m\u001b[0;34m)\u001b[0m\u001b[0;34m\u001b[0m\u001b[0;34m\u001b[0m\u001b[0m\n",
            "\u001b[0;31mNameError\u001b[0m: name 'g1' is not defined"
          ]
        }
      ]
    },
    {
      "cell_type": "code",
      "source": [
        "diff_distance = g1.shortest_path(\"Kawit\")\n",
        "diff_distance"
      ],
      "metadata": {
        "colab": {
          "base_uri": "https://localhost:8080/"
        },
        "id": "rqVEW4X5aYT0",
        "outputId": "09dec40d-6d73-47db-d15d-5d58252c6690"
      },
      "execution_count": null,
      "outputs": [
        {
          "output_type": "execute_result",
          "data": {
            "text/plain": [
              "{'Bacoor': 14,\n",
              " 'Kawit': 0,\n",
              " 'Imus': 8,\n",
              " 'Tanza': 13,\n",
              " 'Trece': 21,\n",
              " 'Dasma': 21,\n",
              " 'Silang': 31,\n",
              " 'Tagaytay': 41,\n",
              " 'Molino': 14,\n",
              " 'GMA': 29,\n",
              " 'San Pedro': 27,\n",
              " 'Carmona': 35,\n",
              " 'Binan': 43,\n",
              " 'Sta Rosa': 59,\n",
              " 'Calamba': 74}"
            ]
          },
          "metadata": {},
          "execution_count": 8
        }
      ]
    },
    {
      "cell_type": "code",
      "source": [
        "#Calculate carbon emission of using truck: 1055g of C02 emitted per kilometer:\n",
        "#USe Kawit -> Calamba (asssuming there's a delivery from kawit to calamba):\n",
        "carbon_emitted = diff_distance['Calamba'] * 1055\n",
        "longest_carbon_emit = 103 * 1055 #longess km is 103km.\n",
        "diff = (longest_carbon_emit - carbon_emitted) / longest_carbon_emit * 100\n",
        "print(f\"There's a {carbon_emitted} g CO2 emitted, which compares to longest distance with emits {longest_carbon_emit}g of C02. It has difference of {diff}%\") "
      ],
      "metadata": {
        "colab": {
          "base_uri": "https://localhost:8080/",
          "height": 235
        },
        "id": "dR2FZWe9v3PG",
        "outputId": "2f9f5af2-5acb-449d-ef54-1ea40bfad66a"
      },
      "execution_count": null,
      "outputs": [
        {
          "output_type": "error",
          "ename": "NameError",
          "evalue": "ignored",
          "traceback": [
            "\u001b[0;31m---------------------------------------------------------------------------\u001b[0m",
            "\u001b[0;31mNameError\u001b[0m                                 Traceback (most recent call last)",
            "\u001b[0;32m<ipython-input-4-e3254c74673d>\u001b[0m in \u001b[0;36m<cell line: 3>\u001b[0;34m()\u001b[0m\n\u001b[1;32m      1\u001b[0m \u001b[0;31m#Calculate carbon emission of using truck: 1055g of C02 emitted per kilometer:\u001b[0m\u001b[0;34m\u001b[0m\u001b[0;34m\u001b[0m\u001b[0m\n\u001b[1;32m      2\u001b[0m \u001b[0;31m#USe Kawit -> Calamba (asssuming there's a delivery from kawit to calamba):\u001b[0m\u001b[0;34m\u001b[0m\u001b[0;34m\u001b[0m\u001b[0m\n\u001b[0;32m----> 3\u001b[0;31m \u001b[0mcarbon_emitted\u001b[0m \u001b[0;34m=\u001b[0m \u001b[0mdiff_distance\u001b[0m\u001b[0;34m[\u001b[0m\u001b[0;34m'Calamba'\u001b[0m\u001b[0;34m]\u001b[0m \u001b[0;34m*\u001b[0m \u001b[0;36m1055\u001b[0m\u001b[0;34m\u001b[0m\u001b[0;34m\u001b[0m\u001b[0m\n\u001b[0m\u001b[1;32m      4\u001b[0m \u001b[0mlongest_carbon_emit\u001b[0m \u001b[0;34m=\u001b[0m \u001b[0;36m103\u001b[0m \u001b[0;34m*\u001b[0m \u001b[0;36m1055\u001b[0m \u001b[0;31m#longess km is 103km.\u001b[0m\u001b[0;34m\u001b[0m\u001b[0;34m\u001b[0m\u001b[0m\n\u001b[1;32m      5\u001b[0m \u001b[0mdiff\u001b[0m \u001b[0;34m=\u001b[0m \u001b[0;34m(\u001b[0m\u001b[0mlongest_carbon_emit\u001b[0m \u001b[0;34m-\u001b[0m \u001b[0mcarbon_emitted\u001b[0m\u001b[0;34m)\u001b[0m \u001b[0;34m/\u001b[0m \u001b[0mlongest_carbon_emit\u001b[0m \u001b[0;34m*\u001b[0m \u001b[0;36m100\u001b[0m\u001b[0;34m\u001b[0m\u001b[0;34m\u001b[0m\u001b[0m\n",
            "\u001b[0;31mNameError\u001b[0m: name 'diff_distance' is not defined"
          ]
        }
      ]
    },
    {
      "cell_type": "code",
      "source": [],
      "metadata": {
        "id": "1kkDExj2v86Q"
      },
      "execution_count": null,
      "outputs": []
    }
  ]
}