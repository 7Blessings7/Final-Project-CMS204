{
  "nbformat": 4,
  "nbformat_minor": 0,
  "metadata": {
    "colab": {
      "provenance": [],
      "include_colab_link": true
    },
    "kernelspec": {
      "name": "python3",
      "display_name": "Python 3"
    },
    "language_info": {
      "name": "python"
    }
  },
  "cells": [
    {
      "cell_type": "markdown",
      "metadata": {
        "id": "view-in-github",
        "colab_type": "text"
      },
      "source": [
        "<a href=\"https://colab.research.google.com/github/7Blessings7/Final-Project-CMS204/blob/main/Pair_03_Code_Saavedra.ipynb\" target=\"_parent\"><img src=\"https://colab.research.google.com/assets/colab-badge.svg\" alt=\"Open In Colab\"/></a>"
      ]
    },
    {
      "cell_type": "code",
      "execution_count": null,
      "metadata": {
        "colab": {
          "base_uri": "https://localhost:8080/"
        },
        "id": "47zocfMf16cQ",
        "outputId": "b1317f0e-5182-4843-e9cd-b92b3e550308"
      },
      "outputs": [
        {
          "output_type": "stream",
          "name": "stdout",
          "text": [
            "A -> ['C', 'F']\n",
            "C -> ['A', 'D', 'B', 'E']\n",
            "D -> ['C', 'B']\n",
            "B -> ['C', 'D']\n",
            "E -> ['C']\n",
            "F -> ['A']\n",
            "A has direct contact with ['C', 'F']\n",
            "Number of direct contacts: 2\n",
            "A has possibly infected the following contacts {'C', 'B', 'D', 'F', 'E'}\n",
            "Number of all contacts: 5\n"
          ]
        }
      ],
      "source": [
        "class Graph:    \n",
        "    def __init__(self):\n",
        "        # undirected graph\n",
        "        # adjacency list representation\n",
        "        # each key entry in the graph will be a vertex\n",
        "        self.graph = {}\n",
        "\n",
        "    def add_edge(self, source, destination):\n",
        "        # check if source is not in graph\n",
        "        # add as key-value pair with string-list data type       \n",
        "        if source not in self.graph:\n",
        "            self.graph[source] = [destination]\n",
        "        else:\n",
        "            # if in graph append the destination to the list of values\n",
        "            if destination not in self.graph[source]:\n",
        "                self.graph[source].append(destination)\n",
        "\n",
        "        # check if destination is not in graph\n",
        "        # add as key-value pair with string-list data type   \n",
        "        if destination not in self.graph:\n",
        "            self.graph[destination] = [source]\n",
        "        else:\n",
        "            # if in graph append the source to the list of values\n",
        "            if source not in self.graph[destination]:\n",
        "                self.graph[destination].append(source)            \n",
        "\n",
        "    def print_graph(self):\n",
        "        # empty check\n",
        "        if len(self.graph.keys()) == 0:\n",
        "            print(self.graph)\n",
        "            return\n",
        "        # print each key key-value to show the adjacency list equivalent\n",
        "        for key, value in self.graph.items():\n",
        "            print(key, '->', value)\n",
        "            # expected output is key -> [values]\n",
        "\n",
        "    # gives the direct contacts a person had\n",
        "    def trace_direct_contacts(self, vertex):\n",
        "        # key check\n",
        "        if vertex not in self.graph:\n",
        "            print(vertex, 'is not in the graph')\n",
        "            return\n",
        "        # if vertex exist in the graph print the value and the length\n",
        "        print(vertex, 'has direct contact with', self.graph[vertex])\n",
        "        print('Number of direct contacts:', len(self.graph[vertex]))    \n",
        "\n",
        "    # gives all the contacts a person had\n",
        "    def trace_all_contacts(self, vertex):\n",
        "        # key check\n",
        "        if vertex not in self.graph:\n",
        "            print(vertex, 'is not in the graph')\n",
        "            return\n",
        "        # contacts set will serve a checker for all those visited contact\n",
        "        contacts = set()\n",
        "        # trace_contacts will be called recursively to traverse all the contacts and secondary contacts\n",
        "        self.trace_contacts(vertex, contacts)\n",
        "        # once all contacts are traversed remove the vertex from the contacts set\n",
        "        contacts.remove(vertex)\n",
        "        print(vertex, 'has possibly infected the following contacts', contacts)\n",
        "        print('Number of all contacts:', len(contacts))\n",
        "\n",
        "    def trace_contacts(self, vertex, contacts):\n",
        "        # add the vertex to the contacts variable\n",
        "        contacts.add(vertex)\n",
        "        # this for loop will traverse the graph for each direct contact and goes until the all unique secondary contacts are added to the contacts set\n",
        "        # this is an implementation of a Depth-First Search\n",
        "        for contact in self.graph[vertex]:\n",
        "            if contact not in contacts:\n",
        "                self.trace_contacts(contact, contacts)\n",
        "    \n",
        "if __name__ == '__main__':\n",
        "    graph = Graph()\n",
        "    graph.add_edge('A', 'C')\n",
        "    graph.add_edge('D', 'C')\n",
        "    graph.add_edge('B', 'C')\n",
        "    graph.add_edge('D', 'B')\n",
        "    graph.add_edge('E', 'C')\n",
        "    graph.add_edge('F', 'A')\n",
        "\n",
        "    graph.print_graph()\n",
        "    graph.trace_direct_contacts('A')\n",
        "    graph.trace_all_contacts('A')"
      ]
    }
  ]
}