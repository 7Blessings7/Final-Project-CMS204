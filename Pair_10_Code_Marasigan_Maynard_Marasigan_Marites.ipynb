{
  "nbformat": 4,
  "nbformat_minor": 0,
  "metadata": {
    "colab": {
      "provenance": [],
      "include_colab_link": true
    },
    "kernelspec": {
      "name": "python3",
      "display_name": "Python 3"
    },
    "language_info": {
      "name": "python"
    }
  },
  "cells": [
    {
      "cell_type": "markdown",
      "metadata": {
        "id": "view-in-github",
        "colab_type": "text"
      },
      "source": [
        "<a href=\"https://colab.research.google.com/github/7Blessings7/Final-Project-CMS204/blob/main/Pair_10_Code_Marasigan_Maynard_Marasigan_Marites.ipynb\" target=\"_parent\"><img src=\"https://colab.research.google.com/assets/colab-badge.svg\" alt=\"Open In Colab\"/></a>"
      ]
    },
    {
      "cell_type": "code",
      "execution_count": null,
      "metadata": {
        "id": "erOOvMu89u0P",
        "colab": {
          "base_uri": "https://localhost:8080/"
        },
        "outputId": "ced6d712-7ea2-44b0-a58e-aa702f97f1d8"
      },
      "outputs": [
        {
          "output_type": "stream",
          "name": "stdout",
          "text": [
            "Network users:\n",
            "Mayn\n",
            "Matt\n",
            "Ken\n",
            "Emanuel\n",
            "Dave\n",
            "Viel\n",
            "Jan\n",
            "Pepito\n",
            "Kenneth\n",
            "John\n",
            "Gerald\n",
            "Michelle\n",
            "Jenny\n",
            "Jaira\n",
            "Christian\n",
            "\n",
            "Enter your name: Mayn\n",
            "The friends of friends of Mayn are: {'Emanuel', 'Dave'}\n"
          ]
        }
      ],
      "source": [
        "#University of the Philippines Open University\n",
        "#CMSC 204: Data Structures and Algorithms\n",
        "#Final Project\n",
        "#Pair-10\n",
        "#Marasigan, Maynard P. (2021-32093)\n",
        "#Marasigan, Marites G. (2021-32092)\n",
        "\n",
        "\n",
        "# define the social network as a dictionary of users and their friends\n",
        "social_network = {\n",
        "    'Mayn': ['Matt', 'Ken'],\n",
        "    'Matt': ['Mayn', 'Emanuel', 'Dave'],\n",
        "    'Ken': ['Mayn', 'Dave'],\n",
        "    'Emanuel': ['Matt', 'Dave'],\n",
        "    'Dave': ['Jan', 'Viel', 'Pepito'],\n",
        "    'Viel': ['Mayn', 'Matt', 'Pepito'],\n",
        "    'Jan': ['Viel', 'Michelle', 'Pepito'],\n",
        "    'Pepito': ['Viel', 'Michelle', 'Kenneth'],\n",
        "    'Kenneth': ['Matt', 'Jenny', 'John'],\n",
        "    'John': ['Kenneth', 'Jenny', 'Jenny'],\n",
        "    'Gerald': ['John', 'John', 'Kenneth'],\n",
        "    'Michelle': ['Jaira', 'Matt', 'Christian'],\n",
        "    'Jenny': ['Jaira', 'Mayn', 'Christian'],\n",
        "    'Jaira': ['Matt', 'Mayn', 'Christian'],\n",
        "    'Christian': ['Jaira', 'Mayn', 'Matt']\n",
        "}\n",
        "\n",
        "# define the function that finds the friends of friends for a given user\n",
        "def find_friends_of_friends(network, user):\n",
        "    # create an empty set to store the friends of friends\n",
        "    friends_of_friends = set()\n",
        "    \n",
        "    # iterate over the friends of the user\n",
        "    for friend in network[user]:\n",
        "        # iterate over the friends of each friend\n",
        "        for friend_of_friend in network[friend]:\n",
        "            # add the friend of friend to the set if they are not already a friend or the user\n",
        "            if friend_of_friend != user and friend_of_friend not in network[user]:\n",
        "                friends_of_friends.add(friend_of_friend)\n",
        "    \n",
        "    # return the set of friends of friends\n",
        "    return friends_of_friends\n",
        "\n",
        "# test the function by finding the friends of friends for a given user\n",
        "\n",
        "print(\"Network users:\")\n",
        "for key, value in social_network.items():\n",
        "  print(key)\n",
        "\n",
        "user = input(\"\\nEnter your name: \")\n",
        "\n",
        "friends_of_friends = find_friends_of_friends(social_network, user)\n",
        "\n",
        "print('The friends of friends of', user, 'are:', friends_of_friends)\n"
      ]
    }
  ]
}