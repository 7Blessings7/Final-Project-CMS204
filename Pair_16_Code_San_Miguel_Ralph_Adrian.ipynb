{
  "nbformat": 4,
  "nbformat_minor": 0,
  "metadata": {
    "colab": {
      "provenance": [],
      "include_colab_link": true
    },
    "kernelspec": {
      "name": "python3",
      "display_name": "Python 3"
    },
    "language_info": {
      "name": "python"
    }
  },
  "cells": [
    {
      "cell_type": "markdown",
      "metadata": {
        "id": "view-in-github",
        "colab_type": "text"
      },
      "source": [
        "<a href=\"https://colab.research.google.com/github/7Blessings7/Final-Project-CMS204/blob/main/Pair_16_Code_San_Miguel_Ralph_Adrian.ipynb\" target=\"_parent\"><img src=\"https://colab.research.google.com/assets/colab-badge.svg\" alt=\"Open In Colab\"/></a>"
      ]
    },
    {
      "cell_type": "code",
      "execution_count": null,
      "metadata": {
        "colab": {
          "base_uri": "https://localhost:8080/"
        },
        "id": "OniEyuOX3c-X",
        "outputId": "a0a3319c-f5ca-4632-9938-a2a195ac6e19"
      },
      "outputs": [
        {
          "output_type": "stream",
          "name": "stdout",
          "text": [
            "Enter a job title: o\n",
            "Please pick from the available jobs above (anything from the nodes in graph.add_node), complete with properly matched cases. Since Google Colab does not support databases, I had to hardcode my data. In a real-life application of this program, I could use a database to store larger amounts of data instead of the fixed one we have now. Thank you\n"
          ]
        }
      ],
      "source": [
        "#Create a class for the Graph data structure\n",
        "class Graph:\n",
        "    def __init__(self):\n",
        "        self.graph = {}\n",
        "\n",
        "    def add_node(self, node, adjacent_nodes):\n",
        "        self.graph[node] = adjacent_nodes\n",
        "\n",
        "    def remove_node(self, node):\n",
        "        if node in self.graph:\n",
        "            del self.graph[node]\n",
        "            for adjacent_nodes in self.graph.values():\n",
        "                if node in adjacent_nodes:\n",
        "                    adjacent_nodes.remove(node)\n",
        "\n",
        "    def recommend_similar_jobs(self, job):\n",
        "        if job not in self.graph:\n",
        "            return \"Please pick from the available jobs above (anything from the nodes in graph.add_node), complete with properly matched cases. Since Google Colab does not support databases, I had to hardcode my data. In a real-life application of this program, I could use a database to store larger amounts of data instead of the fixed one we have now. Thank you\", []\n",
        "        skills = set(self.graph[job])\n",
        "        similar_jobs = set()\n",
        "        for j, s in self.graph.items():\n",
        "            if j != job and skills.intersection(s):\n",
        "                similar_jobs.add(j)\n",
        "        return list(similar_jobs), list(skills)\n",
        "\n",
        "#Create a graph object\n",
        "graph = Graph()\n",
        "\n",
        "#Add nodes to the graph\n",
        "graph.add_node('Full-stack developer', ['Database', 'Web development', 'Mobile development','DevOps'])\n",
        "graph.add_node('Data analyst', ['Database', 'Data science', 'Analytics'])\n",
        "graph.add_node('DevOps engineer', ['Cloud computing', 'DevOps','Networking'])\n",
        "graph.add_node('Data engineer', ['Database', 'Big data','Cloud'])\n",
        "graph.add_node('Database administrator', ['Database'])\n",
        "graph.add_node('Network administrator', ['Networking'])\n",
        "graph.add_node('Network engineer', ['Networking'])\n",
        "graph.add_node('Cybersecurity analyst', ['Security', 'Cybersecurity'])\n",
        "graph.add_node('Cloud security engineer', ['Security', 'Cloud computing', 'Cybersecurity'])\n",
        "graph.add_node('Front-end developer', ['Web development'])\n",
        "graph.add_node('Back-end developer', ['Web development','Database'])\n",
        "graph.add_node('Cloud engineer', ['Cloud computing'])\n",
        "graph.add_node('Machine learning engineer', ['Artificial intelligence', 'Machine learning'])\n",
        "graph.add_node('Data scientist', ['Artificial intelligence', 'Machine learning', 'Data science', 'Big data', 'Analytics'])\n",
        "graph.add_node('Project manager', ['Project management'])\n",
        "graph.add_node('Business analyst', ['Project management','Analytics'])\n",
        "\n",
        "#Get user input\n",
        "job = input(\"Enter a job title: \")\n",
        "\n",
        "#Recommend similar jobs and skills based on user input\n",
        "similar_jobs, skills = graph.recommend_similar_jobs(job)\n",
        "\n",
        "#Print the recommended similar jobs and skills\n",
        "if isinstance(similar_jobs, str):\n",
        "    print(similar_jobs)\n",
        "elif similar_jobs:\n",
        "    print(\"Jobs similar to\", job + \":\")\n",
        "    for j in similar_jobs:\n",
        "        print(\"- \" + j)\n",
        "    print(\"\\nSkills in common:\")\n",
        "    for s in skills:\n",
        "        print(\"- \" + s)\n",
        "else:\n",
        "    print(\"No similar jobs found based on your input.\")"
      ]
    }
  ]
}