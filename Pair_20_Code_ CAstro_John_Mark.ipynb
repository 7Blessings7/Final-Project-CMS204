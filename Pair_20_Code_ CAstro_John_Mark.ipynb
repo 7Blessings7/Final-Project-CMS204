{
  "nbformat": 4,
  "nbformat_minor": 0,
  "metadata": {
    "colab": {
      "provenance": [],
      "include_colab_link": true
    },
    "kernelspec": {
      "name": "python3",
      "display_name": "Python 3"
    },
    "language_info": {
      "name": "python"
    }
  },
  "cells": [
    {
      "cell_type": "markdown",
      "metadata": {
        "id": "view-in-github",
        "colab_type": "text"
      },
      "source": [
        "<a href=\"https://colab.research.google.com/github/7Blessings7/Final-Project-CMS204/blob/main/Pair_20_Code_%20CAstro_John_Mark.ipynb\" target=\"_parent\"><img src=\"https://colab.research.google.com/assets/colab-badge.svg\" alt=\"Open In Colab\"/></a>"
      ]
    },
    {
      "cell_type": "code",
      "source": [
        "from collections import defaultdict\n",
        "\n",
        "class Graph():\n",
        "    def __init__(self):\n",
        "        self.edges = defaultdict(list)                                                # Dictionary of all possible next nodes e.g., {'A': ['D', 'E', 'G', 'H', 'I'], ...}\n",
        "        self.weights = {}                                                             # Has all the weights between two nodes, with the two nodes as a tuple as the key e.g., {('A', 'D'): 9.4, ('A', 'E'): 10.4, ...}\n",
        "  \n",
        "    def add_edge(self, from_node, to_node, weight):                                   # captures start node, end node, and weight between the two nodes from a list of edges\n",
        "      self.edges[from_node].append(to_node)\n",
        "      self.weights[(from_node, to_node)] = weight\n",
        "\n",
        "def shortest_path(graph, initial, end):                                               # Initialize shortest_paths as a dictionary with initial as the key and a tuple with None and 0 as the value\n",
        "    shortest_paths = {initial: (None, 0)}\n",
        "    current_node = initial\n",
        "    visited = set()\n",
        "\n",
        "    while current_node != end:\n",
        "        visited.add(current_node)                                                     # Add current_node as initial and visited as an empty set\n",
        "        destinations = graph.edges[current_node]                                      # Assign destinations as the list of nodes that can be reached from the current_node based on edges\n",
        "        weight_to_current_node = shortest_paths[current_node][1]                      # Assign weight_to_current_node as the weight of the path from initial to current_node\n",
        "\n",
        "        for next_node in destinations:                                                # Assign weight as the weight of the path from initial to next_node through current_node\n",
        "            weight = graph.weights[(current_node, next_node)] + weight_to_current_node\n",
        "            \n",
        "            if next_node not in shortest_paths:                                       # If next_node is not already in shortest_paths, add next_node to shortest_paths with current_node as the parent and weight as the weight of the path from initial to next_node\n",
        "                shortest_paths[next_node] = (current_node, weight)\n",
        "            else:\n",
        "                current_shortest_weight = shortest_paths[next_node][1]                # Update shortest_paths for next_node with current_node as the parent and weight as the weight of the path from initial to next_node through current_node\n",
        "                if current_shortest_weight > weight:\n",
        "                    shortest_paths[next_node] = (current_node, weight)\n",
        "\n",
        "        next_destinations = {node: shortest_paths[node] for node in shortest_paths if node not in visited}  # Assign next_destinations as a dictionary containing nodes in shortest_paths that are not in visited\n",
        "\n",
        "        if not next_destinations:                                                      # If destionation is not possible to reach, return \"Route not possible.\"\n",
        "            return \"Route not possible.\"\n",
        "\n",
        "        current_node = min(next_destinations, key=lambda k: next_destinations[k][1])   # Assign current_node as the node in next_destinations with the smallest weight\n",
        "\n",
        "    path = []\n",
        "    total_weight = 0\n",
        "    while current_node is not None:\n",
        "        path.append(current_node)\n",
        "        next_node = shortest_paths[current_node][0]                                    # To capture all nodes of shortest path from origin to destination\n",
        "        if next_node is not None:\n",
        "            total_weight += graph.weights[(next_node, current_node)]                   # To capture total weight of shortest path\n",
        "        current_node = next_node\n",
        "    path = path[::-1]                                                                  # Reverse path to be printed as the result\n",
        "\n",
        "    print('Shortest route from', initial, 'going to', end, 'is: ', end='')\n",
        "    print(*path, sep=\" \\u2b95 \")\n",
        "    print('Total distance in kms:', total_weight)\n",
        "\n",
        "graph = Graph()\n",
        "\n",
        "edges = [                                                                               # Initialize edges as a list of tuples containing the start node, end node, and weight between the two nodes\n",
        "    ('City C', 'City G', 32.9),\n",
        "    ('City G', 'City C', 32.9),\n",
        "    ('City C', 'City J', 3.7),\n",
        "    ('City J', 'City C', 3.7),\n",
        "    ('City C', 'City I', 4.8),\n",
        "    ('City J', 'City I', 24.3),\n",
        "    ('City I', 'City J', 24.3),\n",
        "    ('City J', 'City F', 8.1),\n",
        "    ('City F', 'City J', 8.1),\n",
        "    ('City I', 'City G', 11.6),\n",
        "    ('City G', 'City I', 11.6),\n",
        "    ('City I', 'City H', 7.9),\n",
        "    ('City H', 'City I', 7.9),\n",
        "    ('City I', 'City A', 4.1),\n",
        "    ('City A', 'City I', 4.1),\n",
        "    ('City G', 'City D', 8.5),\n",
        "    ('City D', 'City G', 8.5),\n",
        "    ('City H', 'City F', 5.2),\n",
        "    ('City F', 'City H', 5.2),\n",
        "    ('City H', 'City B', 6.0),\n",
        "    ('City B', 'City H', 6.0),\n",
        "    ('City H', 'City E', 2.6),\n",
        "    ('City E', 'City H', 2.6),\n",
        "    ('City A', 'City H', 12.0),\n",
        "    ('City A', 'City G', 5.9),\n",
        "    ('City A', 'City E', 10.4),\n",
        "    ('City E', 'City A', 10.4),\n",
        "    ('City A', 'City D', 9.4),\n",
        "    ('City D', 'City A', 9.4),\n",
        "    ('City F', 'City B', 12.3),\n",
        "    ('City B', 'City F', 12.3),\n",
        "    ('City E', 'City D', 7.7),\n",
        "    ('City D', 'City E', 7.7),\n",
        "    ('City B', 'City E', 3.9)\n",
        "]\n",
        "\n",
        "for edge in edges:\n",
        "    graph.add_edge(*edge)\n",
        "\n",
        "shortest_path(graph, 'City E', 'City C')"
      ],
      "metadata": {
        "colab": {
          "base_uri": "https://localhost:8080/"
        },
        "id": "8HfR01mgw1Ga",
        "outputId": "d48fdb47-a4ba-4da9-b54b-a1f1b60ae007"
      },
      "execution_count": null,
      "outputs": [
        {
          "output_type": "stream",
          "name": "stdout",
          "text": [
            "Shortest route from City E going to City C is: City E ⮕ City H ⮕ City F ⮕ City J ⮕ City C\n",
            "Total distance in kms: 19.6\n"
          ]
        }
      ]
    }
  ]
}